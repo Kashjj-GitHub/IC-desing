{
 "cells": [
  {
   "cell_type": "code",
   "execution_count": null,
   "id": "57b1d0d7",
   "metadata": {},
   "outputs": [],
   "source": []
  },
  {
   "cell_type": "markdown",
   "id": "0e6a7218",
   "metadata": {},
   "source": [
    "- Debouncing  \n",
    "- UART  \n",
    "- VGA  \n",
    "- Paddle Control  \n",
    "- Ball Control"
   ]
  }
 ],
 "metadata": {
  "language_info": {
   "name": "python"
  }
 },
 "nbformat": 4,
 "nbformat_minor": 5
}
